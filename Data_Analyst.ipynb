{
 "cells": [
  {
   "cell_type": "markdown",
   "id": "4f9dfe1f-59fc-4a54-8dca-00eab65ea924",
   "metadata": {},
   "source": [
    "# Code"
   ]
  },
  {
   "cell_type": "markdown",
   "id": "288f68aa-0189-484c-b123-e9e503a6bb3c",
   "metadata": {},
   "source": [
    "First open the log file"
   ]
  },
  {
   "cell_type": "code",
   "execution_count": 1,
   "id": "4dee3535-a446-4e5a-8741-bb54ab1fbf69",
   "metadata": {},
   "outputs": [
    {
     "name": "stdout",
     "output_type": "stream",
     "text": [
      "Successfully opened log file\n",
      "['100.34.17.233 - NO - [01/07/2025:06:00:02] \"GET /news/grammy-nominations-2024 HTTP/1.1\" 302 1234 \"-\" \"Mozilla/5.0 (Macintosh; Intel Mac OS X 10_15_7) AppleWebKit/537.36 (KHTML, like Gecko) Chrome/120.0.0.0 Safari/537.36\" 269', '173.80.18.254 - NO - [01/07/2025:06:00:04] \"POST / HTTP/1.1\" 200 1234 \"-\" \"Mozilla/5.0 (Macintosh; Intel Mac OS X 10_15_7) AppleWebKit/537.36 (KHTML, like Gecko) Chrome/120.0.0.0 Safari/537.36\" 124', '10.3.0.48 - SE - [01/07/2025:06:00:06] \"GET /podcasts/behind-the-beat HTTP/1.1\" 200 1234 \"-\" \"Mozilla/5.0 (iPhone; CPU iPhone OS 17_2_1 like Mac OS X) AppleWebKit/605.1.15 (KHTML, like Gecko) Version/17.2 Mobile/15E148 Safari/604.1\" 284', '172.56.143.33 - US - [01/07/2025:06:00:08] \"GET /terms-of-service HTTP/1.1\" 200 1234 \"-\" \"Mozilla/5.0 (iPhone; CPU iPhone OS 17_2_1 like Mac OS X) AppleWebKit/605.1.15 (KHTML, like Gecko) Version/17.2 Mobile/15E148 Safari/604.1\" 262', '208.54.157.184 - NO - [01/07/2025:06:00:09] \"POST /privacy-policy HTTP/1.1\" 200 1234 \"-\" \"Mozilla/5.0 (Windows NT 10.0; Win64; x64) AppleWebKit/537.36 (KHTML, like Gecko) Chrome/120.0.0.0 Safari/537.36 Edg/120.0.0.0\" 118']\n"
     ]
    }
   ],
   "source": [
    "import requests\n",
    "\n",
    "urlOfLog = \"https://raw.githubusercontent.com/brightnetwork/ieuk-task-2025/refs/heads/main/sample-log.log\"\n",
    "response = requests.get(urlOfLog)\n",
    "\n",
    "# Check if the request was successful\n",
    "if response.status_code == 200:\n",
    "    logContent = response.text.strip().splitlines()\n",
    "    print(\"Successfully opened log file\")\n",
    "    print(logContent[:5])\n",
    "else:\n",
    "    print(\"Failed to fetch the file. Status code: %s\" % (response.status_code))"
   ]
  },
  {
   "cell_type": "markdown",
   "id": "4afdd9d6-5f21-4271-a8f9-0674350504f2",
   "metadata": {},
   "source": [
    "Now split each row of data into columns so its easy to read and access"
   ]
  },
  {
   "cell_type": "code",
   "execution_count": 2,
   "id": "e3f70c34-10d7-4a66-bdf5-a4df8e5edd14",
   "metadata": {},
   "outputs": [
    {
     "name": "stdout",
     "output_type": "stream",
     "text": [
      "                    ip country             datetime method  \\\n",
      "0        100.34.17.233      NO  01/07/2025:06:00:02    GET   \n",
      "1        173.80.18.254      NO  01/07/2025:06:00:04   POST   \n",
      "2            10.3.0.48      SE  01/07/2025:06:00:06    GET   \n",
      "3        172.56.143.33      US  01/07/2025:06:00:08    GET   \n",
      "4       208.54.157.184      NO  01/07/2025:06:00:09   POST   \n",
      "...                ...     ...                  ...    ...   \n",
      "432091     10.11.0.242      SE  04/07/2025:22:59:45    GET   \n",
      "432092  173.161.113.97      DK  04/07/2025:22:59:46    GET   \n",
      "432093     81.3.240.99      FR  04/07/2025:22:59:51    GET   \n",
      "432094    174.53.3.214      DE  04/07/2025:22:59:54   POST   \n",
      "432095  108.48.154.231      NL  04/07/2025:22:59:59    GET   \n",
      "\n",
      "                                        path  protocol status  size referrer  \\\n",
      "0              /news/grammy-nominations-2024  HTTP/1.1    302  1234        -   \n",
      "1                                          /  HTTP/1.1    200  1234        -   \n",
      "2                  /podcasts/behind-the-beat  HTTP/1.1    200  1234        -   \n",
      "3                          /terms-of-service  HTTP/1.1    200  1234        -   \n",
      "4                            /privacy-policy  HTTP/1.1    200  1234        -   \n",
      "...                                      ...       ...    ...   ...      ...   \n",
      "432091             /podcasts/behind-the-beat  HTTP/1.1    200  1234        -   \n",
      "432092                                     /  HTTP/1.1    200  1234        -   \n",
      "432093                     /terms-of-service  HTTP/1.1    200  1234        -   \n",
      "432094  /api/auth/login?username=noah.wright  HTTP/1.1    200  1234        -   \n",
      "432095                  /static/css/main.css  HTTP/1.1    200  1234        -   \n",
      "\n",
      "                                               user_agent duration  \n",
      "0       Mozilla/5.0 (Macintosh; Intel Mac OS X 10_15_7...      269  \n",
      "1       Mozilla/5.0 (Macintosh; Intel Mac OS X 10_15_7...      124  \n",
      "2       Mozilla/5.0 (iPhone; CPU iPhone OS 17_2_1 like...      284  \n",
      "3       Mozilla/5.0 (iPhone; CPU iPhone OS 17_2_1 like...      262  \n",
      "4       Mozilla/5.0 (Windows NT 10.0; Win64; x64) Appl...      118  \n",
      "...                                                   ...      ...  \n",
      "432091  Mozilla/5.0 (Android 14; Mobile; rv:121.0) Gec...      336  \n",
      "432092  Mozilla/5.0 (Macintosh; Intel Mac OS X 10_15_7...      217  \n",
      "432093  Mozilla/5.0 (Windows NT 10.0; Win64; x64) Appl...      263  \n",
      "432094  Mozilla/5.0 (iPad; CPU OS 17_2_1 like Mac OS X...      441  \n",
      "432095  Mozilla/5.0 (Windows NT 10.0; Win64; x64) Appl...       66  \n",
      "\n",
      "[432096 rows x 11 columns]\n"
     ]
    }
   ],
   "source": [
    "import pandas as pd\n",
    "import re\n",
    "\n",
    "pattern = re.compile(\n",
    "    r'(\\S+)\\s+-\\s+(\\S+)\\s+-\\s+\\[(.*?)\\]\\s+\"(\\S+)\\s+(.*?)\\s+(HTTP/\\d\\.\\d)\"\\s+(\\d+)\\s+(\\d+)\\s+\"(.*?)\"\\s+\"(.*?)\"\\s+(\\d+)'\n",
    ")\n",
    "\n",
    "parsed_rows = []\n",
    "\n",
    "for line in logContent:\n",
    "    m = pattern.match(line)\n",
    "    if m:\n",
    "        parsed_rows.append(list(m.groups()))\n",
    "\n",
    "# Define columns\n",
    "columns = [\n",
    "    'ip',\n",
    "    'country',\n",
    "    'datetime',\n",
    "    'method',\n",
    "    'path',\n",
    "    'protocol',\n",
    "    'status',\n",
    "    'size',\n",
    "    'referrer',\n",
    "    'user_agent',\n",
    "    'duration'\n",
    "]\n",
    "\n",
    "# Create DataFrame\n",
    "df = pd.DataFrame(parsed_rows, columns=columns)\n",
    "\n",
    "print(df)"
   ]
  },
  {
   "cell_type": "markdown",
   "id": "59d3e5a7-c9dc-4612-8df9-411f208b7628",
   "metadata": {},
   "source": [
    "Now let's plot the duration of each request, see how much time connections to the server spend loading the Webpage"
   ]
  },
  {
   "cell_type": "code",
   "execution_count": 3,
   "id": "f421def6-ebc3-4abb-a2a3-d5dcffa16801",
   "metadata": {},
   "outputs": [
    {
     "data": {
      "image/png": "[encoded data removed]",
      "text/plain": [
       "<Figure size 640x480 with 1 Axes>"
      ]
     },
     "metadata": {},
     "output_type": "display_data"
    }
   ],
   "source": [
    "import matplotlib.pyplot as plt\n",
    "\n",
    "df['duration'] = pd.to_numeric(df['duration'], errors='coerce')\n",
    "plt.hist(df['duration'], bins=10, color='skyblue', edgecolor='black')\n",
    "plt.title('Distribution of Request Durations')\n",
    "plt.xlabel('Duration (ms)')\n",
    "plt.ylabel('Frequency')\n",
    "plt.show()"
   ]
  },
  {
   "cell_type": "markdown",
   "id": "3dd05607-4e86-4d32-a17d-c8440dde2b0f",
   "metadata": {},
   "source": [
    "This graph suggest that request under 400ms could be a bot, but this is not definite."
   ]
  },
  {
   "cell_type": "markdown",
   "id": "1d0c283d-d1c8-4f1a-bddd-11786d27aa3d",
   "metadata": {},
   "source": [
    "Now let's find ip address which have a suspicious amount of request within one minute"
   ]
  },
  {
   "cell_type": "code",
   "execution_count": 4,
   "id": "df7c811f-9086-44b6-8912-8bbb1bf6fbb1",
   "metadata": {},
   "outputs": [],
   "source": [
    "df['datetime'] = pd.to_datetime(df['datetime'], format='%d/%m/%Y:%H:%M:%S')\n",
    "df = df.set_index('datetime')"
   ]
  },
  {
   "cell_type": "code",
   "execution_count": 5,
   "id": "eb46ac43-99b8-46e7-a157-e1bd332d3ead",
   "metadata": {},
   "outputs": [],
   "source": [
    "requests_per_minute = (\n",
    "    df\n",
    "    .groupby('ip')\n",
    "    .resample('1min')\n",
    "    .size()\n",
    "    .reset_index(name='request_count')\n",
    ")\n"
   ]
  },
  {
   "cell_type": "code",
   "execution_count": 6,
   "id": "fcf069c5-7b1a-4c5b-b446-c1252c43d987",
   "metadata": {},
   "outputs": [
    {
     "name": "stdout",
     "output_type": "stream",
     "text": [
      "                   ip            datetime  request_count\n",
      "16689703  194.168.1.1 2025-07-03 12:45:00             41\n",
      "16689711  194.168.1.1 2025-07-03 12:53:00             42\n",
      "16689766  194.168.1.2 2025-07-03 12:48:00             42\n",
      "16689769  194.168.1.2 2025-07-03 12:51:00             42\n",
      "16689836  194.168.1.3 2025-07-03 12:58:00             41\n",
      "...               ...                 ...            ...\n",
      "19217780   45.133.1.2 2025-07-02 15:55:00             90\n",
      "19217781   45.133.1.2 2025-07-02 15:56:00             90\n",
      "19217782   45.133.1.2 2025-07-02 15:57:00             90\n",
      "19217783   45.133.1.2 2025-07-02 15:58:00             90\n",
      "19217784   45.133.1.2 2025-07-02 15:59:00             90\n",
      "\n",
      "[163 rows x 3 columns]\n",
      "['100.34.17.233' '173.80.18.254' '10.3.0.48' ... '185.220.101.19'\n",
      " '185.220.101.78' '185.220.100.77']\n"
     ]
    }
   ],
   "source": [
    "suspicious = requests_per_minute[requests_per_minute['request_count'] > 40]\n",
    "print(suspicious)\n",
    "suspicious_ips = df['ip'].unique()\n",
    "print(suspicious_ips)"
   ]
  },
  {
   "cell_type": "markdown",
   "id": "7d9333e5-2d66-434c-9066-1811b656f8cd",
   "metadata": {},
   "source": [
    "Here we have almost 200 suspicious ips for doing many request to the server under a minute"
   ]
  },
  {
   "cell_type": "markdown",
   "id": "d5657954-a0a8-4fbf-968b-81052d34ae53",
   "metadata": {},
   "source": [
    "# Report"
   ]
  },
  {
   "cell_type": "markdown",
   "id": "f3e5c521-65ff-4142-b28b-89ef80789428",
   "metadata": {},
   "source": [
    "Here we have identified ip addresses that could be bots. This means when the server receives a request from one of these ip addresses, it should request a Captcha to verify if the connection is human or not. By using a Captcha it ensures that the company does not lose users, as blocking all of the ip addresses could risk losing real users. Also, ip addresses are not unique, meaning the ip address could be both a bot or sometimes a human. This solution is cheap and easy to impliment into a website."
   ]
  },
  {
   "cell_type": "code",
   "execution_count": null,
   "id": "18ab146d-c95d-4cc0-a751-292f1e4f4f0f",
   "metadata": {},
   "outputs": [],
   "source": []
  }
 ],
 "metadata": {
  "kernelspec": {
   "display_name": "Python 3 (ipykernel)",
   "language": "python",
   "name": "python3"
  },
  "language_info": {
   "codemirror_mode": {
    "name": "ipython",
    "version": 3
   },
   "file_extension": ".py",
   "mimetype": "text/x-python",
   "name": "python",
   "nbconvert_exporter": "python",
   "pygments_lexer": "ipython3",
   "version": "3.12.7"
  }
 },
 "nbformat": 4,
 "nbformat_minor": 5
}
